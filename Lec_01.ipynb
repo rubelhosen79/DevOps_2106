{
  "nbformat": 4,
  "nbformat_minor": 0,
  "metadata": {
    "colab": {
      "provenance": [],
      "authorship_tag": "ABX9TyOTsIJURtvkHA3CxvsQ3jnV",
      "include_colab_link": true
    },
    "kernelspec": {
      "name": "python3",
      "display_name": "Python 3"
    },
    "language_info": {
      "name": "python"
    }
  },
  "cells": [
    {
      "cell_type": "markdown",
      "metadata": {
        "id": "view-in-github",
        "colab_type": "text"
      },
      "source": [
        "<a href=\"https://colab.research.google.com/github/rubelhosen79/DevOps_2106/blob/main/Lec_01.ipynb\" target=\"_parent\"><img src=\"https://colab.research.google.com/assets/colab-badge.svg\" alt=\"Open In Colab\"/></a>"
      ]
    },
    {
      "cell_type": "code",
      "execution_count": 2,
      "metadata": {
        "id": "kZrjY1hZxMVe"
      },
      "outputs": [],
      "source": [
        "with open ('diary.txt','w') as f:\n",
        "  f.write(\"day1:first day\\n\")\n",
        "  f.write(\"day 2: second day \\n\")"
      ]
    },
    {
      "cell_type": "code",
      "source": [
        "with open ('diary.txt','r') as f:\n",
        "  print(f.read())"
      ],
      "metadata": {
        "colab": {
          "base_uri": "https://localhost:8080/"
        },
        "id": "J9A5nv-RyUHA",
        "outputId": "c7b89a38-ab70-496b-eff5-607239aa8b0f"
      },
      "execution_count": 3,
      "outputs": [
        {
          "output_type": "stream",
          "name": "stdout",
          "text": [
            "day1:first day\n",
            "day 2: second day \n",
            "\n"
          ]
        }
      ]
    },
    {
      "cell_type": "code",
      "source": [
        "import csv\n",
        "\n",
        "data=[\n",
        "    [\"student\",\"id\",\"result\"],\n",
        "    [\"person A\",\"student\",\"dhaka\"],\n",
        "    [\"paerson b\",\"teacher\",\"sylhet\"],\n",
        "    [\"person c\",\"service\",\"gazi\"]\n",
        "]\n",
        "\n",
        "with open(\"data.csv\",mode=\"w\",newline=\"\") as file:\n",
        "  writer=csv.writer(file)\n",
        "  writer.writerows(data)"
      ],
      "metadata": {
        "id": "XKAfQNHvzb-e"
      },
      "execution_count": 10,
      "outputs": []
    },
    {
      "cell_type": "code",
      "source": [
        "import csv\n",
        "student_result = [\n",
        "    [\"stuend_name\",\"student_result\", \"student_result_grade\"],\n",
        "    [\"studentA\", 60, \"B\"],\n",
        "    [\"studentB\", 65, \"B\"],\n",
        "    [\"studentC\", 85, \"A\"],\n",
        "    [\"studentD\", 70, \"A\"],\n",
        "    [\"studentE\", 50, \"C\"],\n",
        "    [\"studentF\", 40, \"C\"],\n",
        "    [\"studentG\", 55, \"C\"],\n",
        "    [\"studentH\", 50, \"C\"],\n",
        "    [\"studentI\", 10, \"F\"],\n",
        "\n",
        "    ]\n",
        "with open(\"students_result_file.csv\", mode=\"w\", newline=\"\") as file:\n",
        "          writ = csv.writer(file)\n",
        "          writ.writerows(student_result)"
      ],
      "metadata": {
        "id": "xu4zDQdW7-DB"
      },
      "execution_count": 15,
      "outputs": []
    },
    {
      "cell_type": "code",
      "source": [
        "import pandas as pd\n",
        "data = pd.read_csv(\"students_result_file.csv\")\n",
        "data.head()"
      ],
      "metadata": {
        "colab": {
          "base_uri": "https://localhost:8080/",
          "height": 206
        },
        "id": "UMscCJSN8IH8",
        "outputId": "8168b6c4-357a-4e97-f63b-3dc33ff2b6d6"
      },
      "execution_count": 12,
      "outputs": [
        {
          "output_type": "execute_result",
          "data": {
            "text/plain": [
              "  stuend_name  student_result student_result_grade\n",
              "0    studentA              60                    B\n",
              "1    studentB              65                    B\n",
              "2    studentC              85                    A\n",
              "3    studentD              70                    A\n",
              "4    studentE              50                    C"
            ],
            "text/html": [
              "\n",
              "  <div id=\"df-1d2661e4-7cea-4dc5-a331-670cf5398538\" class=\"colab-df-container\">\n",
              "    <div>\n",
              "<style scoped>\n",
              "    .dataframe tbody tr th:only-of-type {\n",
              "        vertical-align: middle;\n",
              "    }\n",
              "\n",
              "    .dataframe tbody tr th {\n",
              "        vertical-align: top;\n",
              "    }\n",
              "\n",
              "    .dataframe thead th {\n",
              "        text-align: right;\n",
              "    }\n",
              "</style>\n",
              "<table border=\"1\" class=\"dataframe\">\n",
              "  <thead>\n",
              "    <tr style=\"text-align: right;\">\n",
              "      <th></th>\n",
              "      <th>stuend_name</th>\n",
              "      <th>student_result</th>\n",
              "      <th>student_result_grade</th>\n",
              "    </tr>\n",
              "  </thead>\n",
              "  <tbody>\n",
              "    <tr>\n",
              "      <th>0</th>\n",
              "      <td>studentA</td>\n",
              "      <td>60</td>\n",
              "      <td>B</td>\n",
              "    </tr>\n",
              "    <tr>\n",
              "      <th>1</th>\n",
              "      <td>studentB</td>\n",
              "      <td>65</td>\n",
              "      <td>B</td>\n",
              "    </tr>\n",
              "    <tr>\n",
              "      <th>2</th>\n",
              "      <td>studentC</td>\n",
              "      <td>85</td>\n",
              "      <td>A</td>\n",
              "    </tr>\n",
              "    <tr>\n",
              "      <th>3</th>\n",
              "      <td>studentD</td>\n",
              "      <td>70</td>\n",
              "      <td>A</td>\n",
              "    </tr>\n",
              "    <tr>\n",
              "      <th>4</th>\n",
              "      <td>studentE</td>\n",
              "      <td>50</td>\n",
              "      <td>C</td>\n",
              "    </tr>\n",
              "  </tbody>\n",
              "</table>\n",
              "</div>\n",
              "    <div class=\"colab-df-buttons\">\n",
              "\n",
              "  <div class=\"colab-df-container\">\n",
              "    <button class=\"colab-df-convert\" onclick=\"convertToInteractive('df-1d2661e4-7cea-4dc5-a331-670cf5398538')\"\n",
              "            title=\"Convert this dataframe to an interactive table.\"\n",
              "            style=\"display:none;\">\n",
              "\n",
              "  <svg xmlns=\"http://www.w3.org/2000/svg\" height=\"24px\" viewBox=\"0 -960 960 960\">\n",
              "    <path d=\"M120-120v-720h720v720H120Zm60-500h600v-160H180v160Zm220 220h160v-160H400v160Zm0 220h160v-160H400v160ZM180-400h160v-160H180v160Zm440 0h160v-160H620v160ZM180-180h160v-160H180v160Zm440 0h160v-160H620v160Z\"/>\n",
              "  </svg>\n",
              "    </button>\n",
              "\n",
              "  <style>\n",
              "    .colab-df-container {\n",
              "      display:flex;\n",
              "      gap: 12px;\n",
              "    }\n",
              "\n",
              "    .colab-df-convert {\n",
              "      background-color: #E8F0FE;\n",
              "      border: none;\n",
              "      border-radius: 50%;\n",
              "      cursor: pointer;\n",
              "      display: none;\n",
              "      fill: #1967D2;\n",
              "      height: 32px;\n",
              "      padding: 0 0 0 0;\n",
              "      width: 32px;\n",
              "    }\n",
              "\n",
              "    .colab-df-convert:hover {\n",
              "      background-color: #E2EBFA;\n",
              "      box-shadow: 0px 1px 2px rgba(60, 64, 67, 0.3), 0px 1px 3px 1px rgba(60, 64, 67, 0.15);\n",
              "      fill: #174EA6;\n",
              "    }\n",
              "\n",
              "    .colab-df-buttons div {\n",
              "      margin-bottom: 4px;\n",
              "    }\n",
              "\n",
              "    [theme=dark] .colab-df-convert {\n",
              "      background-color: #3B4455;\n",
              "      fill: #D2E3FC;\n",
              "    }\n",
              "\n",
              "    [theme=dark] .colab-df-convert:hover {\n",
              "      background-color: #434B5C;\n",
              "      box-shadow: 0px 1px 3px 1px rgba(0, 0, 0, 0.15);\n",
              "      filter: drop-shadow(0px 1px 2px rgba(0, 0, 0, 0.3));\n",
              "      fill: #FFFFFF;\n",
              "    }\n",
              "  </style>\n",
              "\n",
              "    <script>\n",
              "      const buttonEl =\n",
              "        document.querySelector('#df-1d2661e4-7cea-4dc5-a331-670cf5398538 button.colab-df-convert');\n",
              "      buttonEl.style.display =\n",
              "        google.colab.kernel.accessAllowed ? 'block' : 'none';\n",
              "\n",
              "      async function convertToInteractive(key) {\n",
              "        const element = document.querySelector('#df-1d2661e4-7cea-4dc5-a331-670cf5398538');\n",
              "        const dataTable =\n",
              "          await google.colab.kernel.invokeFunction('convertToInteractive',\n",
              "                                                    [key], {});\n",
              "        if (!dataTable) return;\n",
              "\n",
              "        const docLinkHtml = 'Like what you see? Visit the ' +\n",
              "          '<a target=\"_blank\" href=https://colab.research.google.com/notebooks/data_table.ipynb>data table notebook</a>'\n",
              "          + ' to learn more about interactive tables.';\n",
              "        element.innerHTML = '';\n",
              "        dataTable['output_type'] = 'display_data';\n",
              "        await google.colab.output.renderOutput(dataTable, element);\n",
              "        const docLink = document.createElement('div');\n",
              "        docLink.innerHTML = docLinkHtml;\n",
              "        element.appendChild(docLink);\n",
              "      }\n",
              "    </script>\n",
              "  </div>\n",
              "\n",
              "\n",
              "    <div id=\"df-52711c1d-daa0-41c7-8a5c-7977cbb2dc47\">\n",
              "      <button class=\"colab-df-quickchart\" onclick=\"quickchart('df-52711c1d-daa0-41c7-8a5c-7977cbb2dc47')\"\n",
              "                title=\"Suggest charts\"\n",
              "                style=\"display:none;\">\n",
              "\n",
              "<svg xmlns=\"http://www.w3.org/2000/svg\" height=\"24px\"viewBox=\"0 0 24 24\"\n",
              "     width=\"24px\">\n",
              "    <g>\n",
              "        <path d=\"M19 3H5c-1.1 0-2 .9-2 2v14c0 1.1.9 2 2 2h14c1.1 0 2-.9 2-2V5c0-1.1-.9-2-2-2zM9 17H7v-7h2v7zm4 0h-2V7h2v10zm4 0h-2v-4h2v4z\"/>\n",
              "    </g>\n",
              "</svg>\n",
              "      </button>\n",
              "\n",
              "<style>\n",
              "  .colab-df-quickchart {\n",
              "      --bg-color: #E8F0FE;\n",
              "      --fill-color: #1967D2;\n",
              "      --hover-bg-color: #E2EBFA;\n",
              "      --hover-fill-color: #174EA6;\n",
              "      --disabled-fill-color: #AAA;\n",
              "      --disabled-bg-color: #DDD;\n",
              "  }\n",
              "\n",
              "  [theme=dark] .colab-df-quickchart {\n",
              "      --bg-color: #3B4455;\n",
              "      --fill-color: #D2E3FC;\n",
              "      --hover-bg-color: #434B5C;\n",
              "      --hover-fill-color: #FFFFFF;\n",
              "      --disabled-bg-color: #3B4455;\n",
              "      --disabled-fill-color: #666;\n",
              "  }\n",
              "\n",
              "  .colab-df-quickchart {\n",
              "    background-color: var(--bg-color);\n",
              "    border: none;\n",
              "    border-radius: 50%;\n",
              "    cursor: pointer;\n",
              "    display: none;\n",
              "    fill: var(--fill-color);\n",
              "    height: 32px;\n",
              "    padding: 0;\n",
              "    width: 32px;\n",
              "  }\n",
              "\n",
              "  .colab-df-quickchart:hover {\n",
              "    background-color: var(--hover-bg-color);\n",
              "    box-shadow: 0 1px 2px rgba(60, 64, 67, 0.3), 0 1px 3px 1px rgba(60, 64, 67, 0.15);\n",
              "    fill: var(--button-hover-fill-color);\n",
              "  }\n",
              "\n",
              "  .colab-df-quickchart-complete:disabled,\n",
              "  .colab-df-quickchart-complete:disabled:hover {\n",
              "    background-color: var(--disabled-bg-color);\n",
              "    fill: var(--disabled-fill-color);\n",
              "    box-shadow: none;\n",
              "  }\n",
              "\n",
              "  .colab-df-spinner {\n",
              "    border: 2px solid var(--fill-color);\n",
              "    border-color: transparent;\n",
              "    border-bottom-color: var(--fill-color);\n",
              "    animation:\n",
              "      spin 1s steps(1) infinite;\n",
              "  }\n",
              "\n",
              "  @keyframes spin {\n",
              "    0% {\n",
              "      border-color: transparent;\n",
              "      border-bottom-color: var(--fill-color);\n",
              "      border-left-color: var(--fill-color);\n",
              "    }\n",
              "    20% {\n",
              "      border-color: transparent;\n",
              "      border-left-color: var(--fill-color);\n",
              "      border-top-color: var(--fill-color);\n",
              "    }\n",
              "    30% {\n",
              "      border-color: transparent;\n",
              "      border-left-color: var(--fill-color);\n",
              "      border-top-color: var(--fill-color);\n",
              "      border-right-color: var(--fill-color);\n",
              "    }\n",
              "    40% {\n",
              "      border-color: transparent;\n",
              "      border-right-color: var(--fill-color);\n",
              "      border-top-color: var(--fill-color);\n",
              "    }\n",
              "    60% {\n",
              "      border-color: transparent;\n",
              "      border-right-color: var(--fill-color);\n",
              "    }\n",
              "    80% {\n",
              "      border-color: transparent;\n",
              "      border-right-color: var(--fill-color);\n",
              "      border-bottom-color: var(--fill-color);\n",
              "    }\n",
              "    90% {\n",
              "      border-color: transparent;\n",
              "      border-bottom-color: var(--fill-color);\n",
              "    }\n",
              "  }\n",
              "</style>\n",
              "\n",
              "      <script>\n",
              "        async function quickchart(key) {\n",
              "          const quickchartButtonEl =\n",
              "            document.querySelector('#' + key + ' button');\n",
              "          quickchartButtonEl.disabled = true;  // To prevent multiple clicks.\n",
              "          quickchartButtonEl.classList.add('colab-df-spinner');\n",
              "          try {\n",
              "            const charts = await google.colab.kernel.invokeFunction(\n",
              "                'suggestCharts', [key], {});\n",
              "          } catch (error) {\n",
              "            console.error('Error during call to suggestCharts:', error);\n",
              "          }\n",
              "          quickchartButtonEl.classList.remove('colab-df-spinner');\n",
              "          quickchartButtonEl.classList.add('colab-df-quickchart-complete');\n",
              "        }\n",
              "        (() => {\n",
              "          let quickchartButtonEl =\n",
              "            document.querySelector('#df-52711c1d-daa0-41c7-8a5c-7977cbb2dc47 button');\n",
              "          quickchartButtonEl.style.display =\n",
              "            google.colab.kernel.accessAllowed ? 'block' : 'none';\n",
              "        })();\n",
              "      </script>\n",
              "    </div>\n",
              "\n",
              "    </div>\n",
              "  </div>\n"
            ],
            "application/vnd.google.colaboratory.intrinsic+json": {
              "type": "dataframe",
              "variable_name": "data",
              "summary": "{\n  \"name\": \"data\",\n  \"rows\": 9,\n  \"fields\": [\n    {\n      \"column\": \"stuend_name\",\n      \"properties\": {\n        \"dtype\": \"string\",\n        \"num_unique_values\": 9,\n        \"samples\": [\n          \"studentH\",\n          \"studentB\",\n          \"studentF\"\n        ],\n        \"semantic_type\": \"\",\n        \"description\": \"\"\n      }\n    },\n    {\n      \"column\": \"student_result\",\n      \"properties\": {\n        \"dtype\": \"number\",\n        \"std\": 21,\n        \"min\": 10,\n        \"max\": 85,\n        \"num_unique_values\": 8,\n        \"samples\": [\n          65,\n          40,\n          60\n        ],\n        \"semantic_type\": \"\",\n        \"description\": \"\"\n      }\n    },\n    {\n      \"column\": \"student_result_grade\",\n      \"properties\": {\n        \"dtype\": \"category\",\n        \"num_unique_values\": 4,\n        \"samples\": [\n          \"A\",\n          \"F\",\n          \"B\"\n        ],\n        \"semantic_type\": \"\",\n        \"description\": \"\"\n      }\n    }\n  ]\n}"
            }
          },
          "metadata": {},
          "execution_count": 12
        }
      ]
    },
    {
      "cell_type": "code",
      "source": [
        "print(data[data['student_result_grade'] == 'C'])"
      ],
      "metadata": {
        "colab": {
          "base_uri": "https://localhost:8080/"
        },
        "id": "K-PfLmdB8RRr",
        "outputId": "cca210c3-c2fb-439e-b032-488b6ac3b189"
      },
      "execution_count": 13,
      "outputs": [
        {
          "output_type": "stream",
          "name": "stdout",
          "text": [
            "  stuend_name  student_result student_result_grade\n",
            "4    studentE              50                    C\n",
            "5    studentF              40                    C\n",
            "6    studentG              55                    C\n",
            "7    studentH              50                    C\n"
          ]
        }
      ]
    },
    {
      "cell_type": "code",
      "source": [
        "print(data[data['student_result'] <= 60])"
      ],
      "metadata": {
        "colab": {
          "base_uri": "https://localhost:8080/"
        },
        "id": "3_j0Jrm78zIZ",
        "outputId": "c544344e-8754-4e16-c6d9-7517b3d9e6a3"
      },
      "execution_count": 14,
      "outputs": [
        {
          "output_type": "stream",
          "name": "stdout",
          "text": [
            "  stuend_name  student_result student_result_grade\n",
            "0    studentA              60                    B\n",
            "4    studentE              50                    C\n",
            "5    studentF              40                    C\n",
            "6    studentG              55                    C\n",
            "7    studentH              50                    C\n",
            "8    studentI              10                    F\n"
          ]
        }
      ]
    },
    {
      "cell_type": "code",
      "source": [
        "print(data[['student_result','student_result_grade']])"
      ],
      "metadata": {
        "colab": {
          "base_uri": "https://localhost:8080/"
        },
        "id": "sg_d-BwQ_cgk",
        "outputId": "656a5a8e-6963-4297-9662-5655a859662b"
      },
      "execution_count": 18,
      "outputs": [
        {
          "output_type": "stream",
          "name": "stdout",
          "text": [
            "   student_result student_result_grade\n",
            "0              60                    B\n",
            "1              65                    B\n",
            "2              85                    A\n",
            "3              70                    A\n",
            "4              50                    C\n",
            "5              40                    C\n",
            "6              55                    C\n",
            "7              50                    C\n",
            "8              10                    F\n"
          ]
        }
      ]
    },
    {
      "cell_type": "code",
      "source": [
        "import json\n",
        "# Original data\n",
        "data = {\n",
        "    \"name\": \"Frieda\",\n",
        "    \"is_dog\": True,\n",
        "    \"age\": 8\n",
        "}\n",
        "# Add several more flat entries (not nested)\n",
        "data[\"color\"] = \"Brown\"\n",
        "data[\"weight_kg\"] = 25.4\n",
        "data[\"microchipped\"] = True\n",
        "data[\"last_vet_visit\"] = \"2025-04-12\"\n",
        "data[\"likes_water\"] = False\n",
        "data[\"has_training\"] = True\n",
        "data[\"adoption_year\"] = 2018\n",
        "data[\"favorite_food\"] = \"Chicken and rice\"\n",
        "# Convert to JSON string and print\n",
        "json_str = json.dumps(data, indent=2)\n",
        "print(json_str)\n",
        "# Save to output.json\n",
        "with open(\"output.json\", \"w\", encoding=\"utf-8\") as f:\n",
        "    json.dump(data, f, indent=2)"
      ],
      "metadata": {
        "colab": {
          "base_uri": "https://localhost:8080/"
        },
        "id": "eJrMiYvsEQ86",
        "outputId": "34290000-8239-4994-c899-1555b886a942"
      },
      "execution_count": 19,
      "outputs": [
        {
          "output_type": "stream",
          "name": "stdout",
          "text": [
            "{\n",
            "  \"name\": \"Frieda\",\n",
            "  \"is_dog\": true,\n",
            "  \"age\": 8,\n",
            "  \"color\": \"Brown\",\n",
            "  \"weight_kg\": 25.4,\n",
            "  \"microchipped\": true,\n",
            "  \"last_vet_visit\": \"2025-04-12\",\n",
            "  \"likes_water\": false,\n",
            "  \"has_training\": true,\n",
            "  \"adoption_year\": 2018,\n",
            "  \"favorite_food\": \"Chicken and rice\"\n",
            "}\n"
          ]
        }
      ]
    },
    {
      "cell_type": "code",
      "source": [
        "import json\n",
        "data = {\"b\": 22, \"a\": 100, \"d\": 46, \"c\": 89, \"dfsdf\": 78}\n",
        "print(json.dumps(data, indent=2, sort_keys=True))\n",
        "# {\n",
        "#   \"a\": 1,\n",
        "#   \"b\": 2\n",
        "# }"
      ],
      "metadata": {
        "colab": {
          "base_uri": "https://localhost:8080/"
        },
        "id": "hGKIfK3YFo0u",
        "outputId": "62ac3e35-9c47-45a0-8342-dcb3c8f64517"
      },
      "execution_count": 20,
      "outputs": [
        {
          "output_type": "stream",
          "name": "stdout",
          "text": [
            "{\n",
            "  \"a\": 100,\n",
            "  \"b\": 22,\n",
            "  \"c\": 89,\n",
            "  \"d\": 46,\n",
            "  \"dfsdf\": 78\n",
            "}\n"
          ]
        }
      ]
    },
    {
      "cell_type": "code",
      "source": [
        "import json\n",
        "# Step 1: Load JSON data from file\n",
        "with open(\"output.json\", \"r\", encoding=\"utf-8\") as f:\n",
        "    data = json.load(f)\n",
        "# Step 2: Access specific values\n",
        "print(\"Name:\", data[\"name\"])\n",
        "print(\"Favorite food:\", data[\"favorite_food\"])\n",
        "# print(\"Microchipped:\", data.get(\"microchipped\"))\n",
        "# Step 3: Update some values\n",
        "data[\"age\"] += 2  # birthday!\n",
        "data[\"favorite_food\"] = \"Burger\"  # new favorite\n",
        "data[\"last_vet_visit\"] = \"2025-07-20\"  # updated visit\n",
        "# Step 4: Add new entries\n",
        "data[\"disliked_fool\"] = \"vegetables\"\n",
        "data[\"daily_study_hours\"] = 4\n",
        "# Step 5: Remove a key (if exists)\n",
        "data.pop(\"likes_water\", None)  # safely remove without error if not found\n",
        "# Step 6: Loop through all key-value pairs\n",
        "print(\"\\n🐶 Updated Dog Profile:\")\n",
        "for key, value in data.items():\n",
        "    print(f\"{key}: {value}\")\n",
        "# Optional: Save the updated data back to file\n",
        "with open(\"output_updated.json\", \"w\", encoding=\"utf-8\") as f:\n",
        "    json.dump(data, f, indent=2)"
      ],
      "metadata": {
        "colab": {
          "base_uri": "https://localhost:8080/"
        },
        "id": "RAE9fremGCd2",
        "outputId": "946d588f-bee9-489f-a224-207d3bb9c66b"
      },
      "execution_count": 21,
      "outputs": [
        {
          "output_type": "stream",
          "name": "stdout",
          "text": [
            "Name: Frieda\n",
            "Favorite food: Chicken and rice\n",
            "\n",
            "🐶 Updated Dog Profile:\n",
            "name: Frieda\n",
            "is_dog: True\n",
            "age: 10\n",
            "color: Brown\n",
            "weight_kg: 25.4\n",
            "microchipped: True\n",
            "last_vet_visit: 2025-07-20\n",
            "has_training: True\n",
            "adoption_year: 2018\n",
            "favorite_food: Burger\n",
            "disliked_fool: vegetables\n",
            "daily_study_hours: 4\n"
          ]
        }
      ]
    },
    {
      "cell_type": "code",
      "source": [
        "#Use CaseﾠCSVﾠJSON\n",
        "#Tabular data (rows/columns)ﾠ✅ Yesﾠ❌ Not Ideal\n",
        "#Nested or structured dataﾠ❌ Noﾠ✅ Yes\n",
        "#API communicationﾠ❌ Rareﾠ✅ Standard\n",
        "#Editable in Excelﾠ✅ Easyﾠ❌ Hard\n",
        "#For configs/settingsﾠ❌ Not usedﾠ✅ Common\n",
        "#Small databasesﾠ✅ Simplerﾠ✅ Flexible"
      ],
      "metadata": {
        "id": "TJze025IG_7P"
      },
      "execution_count": null,
      "outputs": []
    },
    {
      "cell_type": "markdown",
      "source": [],
      "metadata": {
        "id": "V0LWLH1KHBdI"
      }
    }
  ]
}